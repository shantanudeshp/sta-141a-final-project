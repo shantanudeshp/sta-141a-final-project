{
 "cells": [
  {
   "cell_type": "code",
   "execution_count": 6,
   "id": "d94673d1-8004-46cc-a487-99d2d6213b37",
   "metadata": {},
   "outputs": [],
   "source": [
    "import rpy2.robjects as robjects\n",
    "import pandas as pd\n",
    "import numpy as np\n",
    "import os"
   ]
  },
  {
   "cell_type": "code",
   "execution_count": 7,
   "id": "8c7d09c9-a6c1-4c7f-8d0b-cbb33f4cec67",
   "metadata": {},
   "outputs": [],
   "source": [
    "# Define the path to the data folder\n",
    "data_path = \"sessions\"\n",
    "\n",
    "# Function to read RDS file\n",
    "def read_rds(file_path):\n",
    "    readRDS = robjects.r['readRDS']\n",
    "    return readRDS(file_path)\n",
    "\n",
    "# load all sessions\n",
    "sessions = []\n",
    "for i in range(1, 19):\n",
    "    file_name = f'session{i}.rds'\n",
    "    file_path = os.path.join(data_path, file_name)\n",
    "    session_data = read_rds(file_path)\n",
    "    sessions.append(session_data)"
   ]
  },
  {
   "cell_type": "code",
   "execution_count": 8,
   "id": "29bde9bb-bcbd-4a46-b70b-fd8c5846f563",
   "metadata": {},
   "outputs": [],
   "source": [
    "# Initialize a list to store session summaries\n",
    "session_summaries = []\n",
    "\n",
    "# Process each session\n",
    "for i in sessions:\n",
    "    # Extract session metadata\n",
    "    mouse_name = i.rx2('mouse_name')[0]\n",
    "    date_exp = i.rx2('date_exp')[0]\n",
    "    \n",
    "    # Extract neural data\n",
    "    spks = i.rx2('spks')  # Spike trains (list of matrices)\n",
    "    # Convert R matrix to numpy array for the first trial\n",
    "    first_trial_spks = np.array(spks[0])\n",
    "    n_neurons = first_trial_spks.shape[0]  # Number of neurons (rows in the spike matrix)\n",
    "    n_trials = len(spks)  # Number of trials (length of the list)\n",
    "    # Extract feedback data\n",
    "    feedback_type = np.array(i.rx2('feedback_type'))  # Feedback type (1 or -1)\n",
    "    success_rate = np.mean(feedback_type == 1)  # Success rate\n",
    "    \n",
    "    # Extract brain area data\n",
    "    brain_area = np.array(i.rx2('brain_area'))  # Convert to numpy array\n",
    "    n_brain_area = len(np.unique(brain_area))  # Number of unique brain areas\n",
    "    \n",
    "    # Append session summary to the list\n",
    "    session_summaries.append({\n",
    "        \"mouse_name\": mouse_name,\n",
    "        \"date_exp\": date_exp,\n",
    "        \"n_brain_area\": n_brain_area,\n",
    "        \"n_neurons\": n_neurons,\n",
    "        \"n_trials\": n_trials,\n",
    "        \"success_rate\": success_rate\n",
    "    })\n",
    "\n",
    "# Convert to DataFrame for easier analysis\n",
    "session_summary_df = pd.DataFrame(session_summaries)"
   ]
  },
  {
   "cell_type": "code",
   "execution_count": 14,
   "id": "d541e180-1e10-45a0-a0d5-1c4f043941d5",
   "metadata": {},
   "outputs": [
    {
     "data": {
      "text/html": [
       "<div>\n",
       "<style scoped>\n",
       "    .dataframe tbody tr th:only-of-type {\n",
       "        vertical-align: middle;\n",
       "    }\n",
       "\n",
       "    .dataframe tbody tr th {\n",
       "        vertical-align: top;\n",
       "    }\n",
       "\n",
       "    .dataframe thead th {\n",
       "        text-align: right;\n",
       "    }\n",
       "</style>\n",
       "<table border=\"1\" class=\"dataframe\">\n",
       "  <thead>\n",
       "    <tr style=\"text-align: right;\">\n",
       "      <th></th>\n",
       "      <th>mouse_name</th>\n",
       "      <th>date_exp</th>\n",
       "      <th>n_brain_area</th>\n",
       "      <th>n_neurons</th>\n",
       "      <th>n_trials</th>\n",
       "      <th>success_rate</th>\n",
       "    </tr>\n",
       "  </thead>\n",
       "  <tbody>\n",
       "    <tr>\n",
       "      <th>0</th>\n",
       "      <td>Cori</td>\n",
       "      <td>2016-12-14</td>\n",
       "      <td>8</td>\n",
       "      <td>734</td>\n",
       "      <td>114</td>\n",
       "      <td>0.605263</td>\n",
       "    </tr>\n",
       "    <tr>\n",
       "      <th>1</th>\n",
       "      <td>Cori</td>\n",
       "      <td>2016-12-17</td>\n",
       "      <td>5</td>\n",
       "      <td>1070</td>\n",
       "      <td>251</td>\n",
       "      <td>0.633466</td>\n",
       "    </tr>\n",
       "    <tr>\n",
       "      <th>2</th>\n",
       "      <td>Cori</td>\n",
       "      <td>2016-12-18</td>\n",
       "      <td>11</td>\n",
       "      <td>619</td>\n",
       "      <td>228</td>\n",
       "      <td>0.662281</td>\n",
       "    </tr>\n",
       "    <tr>\n",
       "      <th>3</th>\n",
       "      <td>Forssmann</td>\n",
       "      <td>2017-11-01</td>\n",
       "      <td>11</td>\n",
       "      <td>1769</td>\n",
       "      <td>249</td>\n",
       "      <td>0.666667</td>\n",
       "    </tr>\n",
       "    <tr>\n",
       "      <th>4</th>\n",
       "      <td>Forssmann</td>\n",
       "      <td>2017-11-02</td>\n",
       "      <td>10</td>\n",
       "      <td>1077</td>\n",
       "      <td>254</td>\n",
       "      <td>0.661417</td>\n",
       "    </tr>\n",
       "  </tbody>\n",
       "</table>\n",
       "</div>"
      ],
      "text/plain": [
       "  mouse_name    date_exp  n_brain_area  n_neurons  n_trials  success_rate\n",
       "0       Cori  2016-12-14             8        734       114      0.605263\n",
       "1       Cori  2016-12-17             5       1070       251      0.633466\n",
       "2       Cori  2016-12-18            11        619       228      0.662281\n",
       "3  Forssmann  2017-11-01            11       1769       249      0.666667\n",
       "4  Forssmann  2017-11-02            10       1077       254      0.661417"
      ]
     },
     "execution_count": 14,
     "metadata": {},
     "output_type": "execute_result"
    }
   ],
   "source": [
    "session_summary_df.head()"
   ]
  },
  {
   "cell_type": "code",
   "execution_count": null,
   "id": "86f478c0-ee7e-46c6-b145-08ed95176472",
   "metadata": {},
   "outputs": [],
   "source": []
  },
  {
   "cell_type": "code",
   "execution_count": null,
   "id": "495348e3-b5ca-4200-92cc-1863f28c701a",
   "metadata": {},
   "outputs": [],
   "source": []
  },
  {
   "cell_type": "code",
   "execution_count": null,
   "id": "a7982f7a-caff-4ef7-94cd-734f3e369a8e",
   "metadata": {},
   "outputs": [],
   "source": []
  },
  {
   "cell_type": "code",
   "execution_count": null,
   "id": "c76ca307-1214-44fa-a5c1-3b11cc233009",
   "metadata": {},
   "outputs": [],
   "source": []
  },
  {
   "cell_type": "code",
   "execution_count": null,
   "id": "4f9a5630-6b9d-40d9-a78a-b09770fb3463",
   "metadata": {},
   "outputs": [],
   "source": []
  },
  {
   "cell_type": "code",
   "execution_count": null,
   "id": "fc0ba345-735a-4aab-8577-94c2e80492d5",
   "metadata": {},
   "outputs": [],
   "source": []
  },
  {
   "cell_type": "code",
   "execution_count": null,
   "id": "59a043e9-85ef-4f5f-ae84-515a17f3740e",
   "metadata": {},
   "outputs": [],
   "source": []
  },
  {
   "cell_type": "code",
   "execution_count": null,
   "id": "defd31dc-b47a-4881-b1cc-7a6a2c7a28a9",
   "metadata": {},
   "outputs": [],
   "source": []
  }
 ],
 "metadata": {
  "kernelspec": {
   "display_name": "Python 3 (ipykernel)",
   "language": "python",
   "name": "python3"
  },
  "language_info": {
   "codemirror_mode": {
    "name": "ipython",
    "version": 3
   },
   "file_extension": ".py",
   "mimetype": "text/x-python",
   "name": "python",
   "nbconvert_exporter": "python",
   "pygments_lexer": "ipython3",
   "version": "3.13.2"
  }
 },
 "nbformat": 4,
 "nbformat_minor": 5
}
